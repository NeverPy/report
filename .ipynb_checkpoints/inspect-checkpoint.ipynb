{
 "cells": [
  {
   "cell_type": "code",
   "execution_count": 3,
   "metadata": {
    "scrolled": false
   },
   "outputs": [
    {
     "name": "stdout",
     "output_type": "stream",
     "text": [
      "20181025 20181024\n",
      "\u001b[32;1mFileNotFoundError\u001b[0m\n",
      "<class 'str'>\n"
     ]
    }
   ],
   "source": [
    "import paramiko\n",
    "import os,time\n",
    "import chardet\n",
    "import sys \n",
    "t=paramiko.Transport(('10.15.1.27',22))\n",
    "t.connect(username='oracle',password='oracle')\n",
    "sftp=paramiko.SFTPClient.from_transport(t)\n",
    "date=(time.strftime(\"%Y%m%d\"))\n",
    "yesterday=int((time.strftime(\"%Y%m%d\")))-1\n",
    "print(date,yesterday)\n",
    "remotefile = r'/dbhome/oracle/db_tools/report/xyh/' + date + '.xyh.txt'\n",
    "localfile = r'D:\\GitHub\\report' + '\\\\' + date + '.xyh.txt'\n",
    "try:\n",
    "    sftp.get(remotefile,localfile)\n",
    "except FileNotFoundError:\n",
    "    print ('\\033[32;1mFileNotFoundError\\033[0m')\n",
    "    remotefile = r'/dbhome/oracle/db_tools/report/xyh/' + str(yesterday) + '.xyh.txt'\n",
    "    localfile = r'D:\\GitHub\\report' + '\\\\' + str(yesterday) + '.xyh.txt'\n",
    "    sftp.get(remotefile,localfile)\n",
    "except Exception as e:\n",
    "    print ('error:',e)\n",
    "else:\n",
    "    sftp.get(remotefile,localfile)\n",
    "t.close()\n",
    "#f=open(localfile,'r',encoding='gb1830')\n",
    "f=open(localfile,'r',encoding='gbk',errors='ignore')\n",
    "#f=open(localfile)\n",
    "content=f.read()\n",
    "#print(content)\n",
    "print(type(content))\n",
    "content_utf8 = content.encode('utf-8')\n",
    "#print(content_utf8)\n",
    "f.close()\n",
    "fo = open(\"1.txt\", \"wb\")\n",
    "fo.write(content_utf8)\n",
    "fo.close()"
   ]
  },
  {
   "cell_type": "markdown",
   "metadata": {},
   "source": [
    "### 分隔符----------------------上面是每天巡检脚本，生成1.txt文件"
   ]
  },
  {
   "cell_type": "code",
   "execution_count": 2,
   "metadata": {},
   "outputs": [
    {
     "name": "stdout",
     "output_type": "stream",
     "text": [
      "20180829\n",
      "<class 'str'>\n"
     ]
    }
   ],
   "source": [
    "import paramiko\n",
    "import os,time\n",
    "import chardet\n",
    "t=paramiko.Transport(('10.15.1.27',22))\n",
    "t.connect(username='oracle',password='oracle')\n",
    "sftp=paramiko.SFTPClient.from_transport(t)\n",
    "date=(time.strftime(\"%Y%m%d\"))\n",
    "print(date)\n",
    "remotefile = r'/dbhome/oracle/201805240809.html'\n",
    "localfile = r'D:\\GitHub\\report' + '\\\\' + '201805240809.html'\n",
    "sftp.get(remotefile,localfile)\n",
    "t.close()\n",
    "#f=open(localfile,'r',encoding='gb1830')\n",
    "f=open(localfile,'r',encoding='gbk',errors='ignore')\n",
    "#f=open(localfile)\n",
    "content=f.read()\n",
    "#print(content)\n",
    "print(type(content))\n",
    "content_utf8 = content.encode('utf-8')\n",
    "#print(content_utf8)\n",
    "f.close()\n",
    "fo = open(\"1.html\", \"wb\")\n",
    "fo.write(content_utf8)\n",
    "fo.close()"
   ]
  },
  {
   "cell_type": "code",
   "execution_count": null,
   "metadata": {},
   "outputs": [],
   "source": []
  },
  {
   "cell_type": "code",
   "execution_count": 3,
   "metadata": {},
   "outputs": [
    {
     "name": "stdout",
     "output_type": "stream",
     "text": [
      "It's done\n"
     ]
    }
   ],
   "source": [
    "# 更改文件编码\n",
    "# 文件统一改为utf-8无BOM\n",
    "# -*- coding: UTF-8 -*-\n",
    "import os\n",
    "import pandas as pd\n",
    "\n",
    "#需要把文件改成编码的格式（可以自己随时修改）\n",
    "coding = 'utf-8_sig' \n",
    "# 文件夹目录（可以更改文件编码的文件夹~）\n",
    "file_dir = 'C:\\\\Users\\\\yimian\\\\Desktop\\\\更改文件编码' \n",
    "\n",
    "def run_coding():\n",
    "    for root, dirs, files in os.walk(file_dir, topdown=False):\n",
    "        for i in files:\n",
    "            files_name = os.path.join(root, i)\n",
    "            try:\n",
    "                df1 = pd.read_csv(files_name, encoding='utf-8') \n",
    "            except:\n",
    "                df1 = pd.read_csv(files_name, encoding='gbk')\n",
    "            df1.to_csv(files_name, encoding=coding,index=None)\n",
    "\n",
    "if __name__ == '__main__':\n",
    "    run_coding()\n",
    "    print(\"It's done\")"
   ]
  },
  {
   "cell_type": "code",
   "execution_count": null,
   "metadata": {},
   "outputs": [],
   "source": []
  },
  {
   "cell_type": "code",
   "execution_count": null,
   "metadata": {},
   "outputs": [],
   "source": []
  },
  {
   "cell_type": "code",
   "execution_count": null,
   "metadata": {},
   "outputs": [],
   "source": []
  },
  {
   "cell_type": "code",
   "execution_count": 24,
   "metadata": {},
   "outputs": [
    {
     "name": "stdout",
     "output_type": "stream",
     "text": [
      "20180525\n"
     ]
    }
   ],
   "source": [
    "import time\n",
    "time=(time.strftime(\"%Y%m%d\"))\n",
    "print(time)"
   ]
  },
  {
   "cell_type": "markdown",
   "metadata": {},
   "source": [
    "### 下面为面向对象编程"
   ]
  },
  {
   "cell_type": "code",
   "execution_count": 27,
   "metadata": {},
   "outputs": [],
   "source": [
    "# 定义一个类，表示一台远端linux主机\n",
    "class Linux(object):\n",
    "    # 通过IP, 用户名，密码，超时时间初始化一个远程Linux主机\n",
    "    def __init__(self, ip, username, password, timeout=30):\n",
    "        self.ip = ip\n",
    "        self.username = username\n",
    "        self.password = password\n",
    "        self.timeout = timeout\n",
    "        # transport和chanel\n",
    "        self.t = ''\n",
    "        self.chan = ''\n",
    "        # 链接失败的重试次数\n",
    "        self.try_times = 3\n",
    "\n",
    "    # 调用该方法连接远程主机\n",
    "    def connect(self):\n",
    "         pass\n",
    "\n",
    "    # 断开连接\n",
    "    def close(self):\n",
    "        pass\n",
    "\n",
    "    # 发送要执行的命令\n",
    "    def send(self, cmd):\n",
    "        pass\n",
    "\n",
    "    # get单个文件\n",
    "    def sftp_get(self, remotefile, localfile):\n",
    "        t = paramiko.Transport(sock=(self.ip, 22))\n",
    "        t.connect(username=self.username, password=self.password)\n",
    "        sftp = paramiko.SFTPClient.from_transport(t)\n",
    "        sftp.get(remotefile, localfile)\n",
    "        t.close()\n",
    "\n",
    "    # put单个文件\n",
    "    def sftp_put(self, localfile, remotefile):\n",
    "        t = paramiko.Transport(sock=(self.ip, 22))\n",
    "        t.connect(username=self.username, password=self.password)\n",
    "        sftp = paramiko.SFTPClient.from_transport(t)\n",
    "        sftp.put(localfile, remotefile)\n",
    "        t.close()"
   ]
  },
  {
   "cell_type": "code",
   "execution_count": 3,
   "metadata": {
    "scrolled": true
   },
   "outputs": [
    {
     "name": "stdout",
     "output_type": "stream",
     "text": [
      "20181015\n",
      "/dbhome/oracle/db_tools/report/xyh/20181015.xyh.txt D:\\GitHub\\report\\\\20181015.xyh.txt\n"
     ]
    },
    {
     "ename": "NameError",
     "evalue": "name 'Linux' is not defined",
     "output_type": "error",
     "traceback": [
      "\u001b[1;31m---------------------------------------------------------------------------\u001b[0m",
      "\u001b[1;31mNameError\u001b[0m                                 Traceback (most recent call last)",
      "\u001b[1;32m<ipython-input-3-a8c3554d3c19>\u001b[0m in \u001b[0;36m<module>\u001b[1;34m()\u001b[0m\n\u001b[0;32m      7\u001b[0m     \u001b[0mlocalfile\u001b[0m \u001b[1;33m=\u001b[0m \u001b[1;34mr'D:\\GitHub\\report\\\\'\u001b[0m \u001b[1;33m+\u001b[0m \u001b[0mdate\u001b[0m \u001b[1;33m+\u001b[0m \u001b[1;34m'.xyh.txt'\u001b[0m\u001b[1;33m\u001b[0m\u001b[0m\n\u001b[0;32m      8\u001b[0m     \u001b[0mprint\u001b[0m\u001b[1;33m(\u001b[0m\u001b[0mremotefile\u001b[0m\u001b[1;33m,\u001b[0m\u001b[0mlocalfile\u001b[0m\u001b[1;33m)\u001b[0m\u001b[1;33m\u001b[0m\u001b[0m\n\u001b[1;32m----> 9\u001b[1;33m     \u001b[0mhost\u001b[0m \u001b[1;33m=\u001b[0m \u001b[0mLinux\u001b[0m\u001b[1;33m(\u001b[0m\u001b[1;34m'10.15.1.27'\u001b[0m\u001b[1;33m,\u001b[0m \u001b[1;34m'oracle'\u001b[0m\u001b[1;33m,\u001b[0m \u001b[1;34m'oracle'\u001b[0m\u001b[1;33m)\u001b[0m\u001b[1;33m\u001b[0m\u001b[0m\n\u001b[0m\u001b[0;32m     10\u001b[0m     \u001b[0mhost\u001b[0m\u001b[1;33m.\u001b[0m\u001b[0msftp_get\u001b[0m\u001b[1;33m(\u001b[0m\u001b[0mremotefile\u001b[0m\u001b[1;33m,\u001b[0m \u001b[0mlocalfile\u001b[0m\u001b[1;33m)\u001b[0m\u001b[1;33m\u001b[0m\u001b[0m\n\u001b[0;32m     11\u001b[0m \u001b[1;33m\u001b[0m\u001b[0m\n",
      "\u001b[1;31mNameError\u001b[0m: name 'Linux' is not defined"
     ]
    }
   ],
   "source": [
    "import time\n",
    "if __name__ == '__main__':\n",
    "\n",
    "    date=(time.strftime(\"%Y%m%d\"))\n",
    "    print(date)\n",
    "    remotefile = r'/dbhome/oracle/db_tools/report/xyh/' + date + '.xyh.txt'\n",
    "    localfile = r'D:\\GitHub\\report\\\\' + date + '.xyh.txt'\n",
    "    print(remotefile,localfile)\n",
    "    host = Linux('10.15.1.27', 'oracle', 'oracle')\n",
    "    host.sftp_get(remotefile, localfile)\n",
    "\n",
    "    # # 将本地的xxoo.txt put到远端，并保持为xxoo.txt\n",
    "    # host.sftp_put(localfile, remotefile)"
   ]
  },
  {
   "cell_type": "code",
   "execution_count": null,
   "metadata": {},
   "outputs": [],
   "source": []
  },
  {
   "cell_type": "code",
   "execution_count": null,
   "metadata": {},
   "outputs": [],
   "source": []
  }
 ],
 "metadata": {
  "kernelspec": {
   "display_name": "Python 3",
   "language": "python",
   "name": "python3"
  },
  "language_info": {
   "codemirror_mode": {
    "name": "ipython",
    "version": 3
   },
   "file_extension": ".py",
   "mimetype": "text/x-python",
   "name": "python",
   "nbconvert_exporter": "python",
   "pygments_lexer": "ipython3",
   "version": "3.6.4"
  }
 },
 "nbformat": 4,
 "nbformat_minor": 2
}
